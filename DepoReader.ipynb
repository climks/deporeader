{
 "metadata": {
  "language_info": {
   "codemirror_mode": {
    "name": "ipython",
    "version": 3
   },
   "file_extension": ".py",
   "mimetype": "text/x-python",
   "name": "python",
   "nbconvert_exporter": "python",
   "pygments_lexer": "ipython3",
   "version": "3.8.6"
  },
  "orig_nbformat": 2,
  "kernelspec": {
   "name": "python3",
   "display_name": "Python 3.8.6 64-bit",
   "metadata": {
    "interpreter": {
     "hash": "1baa965d5efe3ac65b79dfc60c0d706280b1da80fedb7760faf2759126c4f253"
    }
   }
  }
 },
 "nbformat": 4,
 "nbformat_minor": 2,
 "cells": [
  {
   "cell_type": "code",
   "execution_count": 7,
   "metadata": {},
   "outputs": [],
   "source": [
    "import csv\n",
    "import re\n",
    "import PyPDF4"
   ]
  },
  {
   "cell_type": "code",
   "execution_count": 8,
   "metadata": {},
   "outputs": [],
   "source": [
    "depopath = './depos/'\n",
    "csvpath = './csvs/'\n",
    "\n",
    "filename = 'sample.pdf'"
   ]
  },
  {
   "cell_type": "code",
   "execution_count": 9,
   "metadata": {},
   "outputs": [],
   "source": [
    "filepath = depopath + filename\n",
    "outpath = csvpath + filename"
   ]
  },
  {
   "cell_type": "code",
   "execution_count": 10,
   "metadata": {},
   "outputs": [],
   "source": [
    "# if .txt, readlines()\n",
    "# if .pdf, convert PDF to text\n",
    "if (filepath.split('.')[-1] == \"txt\"):\n",
    "    depo = open(filepath, 'r')\n",
    "    lines = depo.readlines()\n",
    "else:\n",
    "    depo = open(filepath, 'rb')\n",
    "    pdfReader = PyPDF4.PdfFileReader(depo)\n",
    "    \n",
    "    # extracting text from page\n",
    "    lines = []\n",
    "\n",
    "    for i in range(pdfReader.numPages):\n",
    "        # ignore last 3 lines, per veritext standard (page #, veritext, phone #)\n",
    "        lines.extend(pdfReader.getPage(i).extractText().splitlines()[:-3])\n",
    "\n",
    "depo.close()"
   ]
  },
  {
   "cell_type": "code",
   "execution_count": 15,
   "metadata": {},
   "outputs": [],
   "source": [
    "# Regex pattern for timestamp to remove\n",
    "r = '[0-9][0-9]:[0-9][0-9]:[0-9][0-9]'\n",
    "\n",
    "# 'Higly Confidential Attorney's Eyes Only' statement or 'Page ##' match string\n",
    "eyes =  [\"\\*\\*\", \"Page[s]* [0-9]+\"]\n",
    "\n",
    "# Questioner list, includes all speakers that are not answering\n",
    "qs = [\"Q\\.  \", \"Q  \", \"[A-Z]+:  \"]\n",
    "\n",
    "# Responder list\n",
    "ans = [\"A.  \", \"A  \", \"THE WITNESS:  \", \"THE DEPONENT:  \"]"
   ]
  },
  {
   "cell_type": "code",
   "execution_count": 16,
   "metadata": {},
   "outputs": [],
   "source": [
    "# Leading characters to ignore\n",
    "leading_chars = 0\n",
    "\n",
    "for line in lines:\n",
    "    if (line.strip()) and (\"  1  \" in line):\n",
    "        leading_chars = re.search(\"  1  \", line).start() + 3\n",
    "        break"
   ]
  },
  {
   "cell_type": "code",
   "execution_count": 17,
   "metadata": {
    "tags": []
   },
   "outputs": [],
   "source": [
    "# Speaker identifier and list indexer\n",
    "cur_speaker = -1\n",
    "\n",
    "# Questioning start marker\n",
    "started = 0\n",
    "\n",
    "# Output in the format of [[Q,A], [Q,A], ...] **A may be empty\n",
    "out_list = []\n",
    "\n",
    "# Main loop\n",
    "for line in lines:\n",
    "\n",
    "    # Clean line:\n",
    "    #   remove leading_chars\n",
    "    #   regex match and remove timestamp\n",
    "    #   strip() leading and tailing spaces\n",
    "    line = line[leading_chars:]\n",
    "    line = re.sub(r,'',line).strip()\n",
    "\n",
    "    # Questioning starts at the first mention of 'Q  ' or 'Q.  '\n",
    "    if (not started) and any(re.match(q, line) for q in qs[:-1]):\n",
    "        started = 1\n",
    "\n",
    "    # 1) skip line if line is a) empty, b) page number, or c) confidential statement\n",
    "    # 2) if answer, set cur_speaker to 1 **A check before Q check to override \":  \" match\n",
    "    # 3) if question, set cur_speaker to 0 and append a new sublist if questioning has begun\n",
    "    if (line == \"\") or (line.isdecimal()) or (any(re.match(eye, line) for eye in eyes)):\n",
    "        continue\n",
    "    elif any(re.match(a, line) for a in ans):\n",
    "        cur_speaker = 1\n",
    "    elif any(re.search(q, line) for q in qs):\n",
    "        cur_speaker = 0\n",
    "        out_list.append([\"\",\"\"]) if started else None\n",
    "    \n",
    "    # Append line to output if questioning has begun\n",
    "    if started:\n",
    "        out_list[-1][cur_speaker] = out_list[-1][cur_speaker] + line + \" \"\n",
    "    \n",
    "    # Do not capture index\n",
    "    if \"Deposition ended at\" in line:\n",
    "        break"
   ]
  },
  {
   "cell_type": "code",
   "execution_count": 18,
   "metadata": {},
   "outputs": [],
   "source": [
    "with open('{}.csv'.format(outpath), 'w', newline='') as outfile:\n",
    "    writer = csv.writer(outfile)\n",
    "    writer.writerows(out_list)"
   ]
  }
 ]
}