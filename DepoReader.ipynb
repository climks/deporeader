{
 "metadata": {
  "language_info": {
   "codemirror_mode": {
    "name": "ipython",
    "version": 3
   },
   "file_extension": ".py",
   "mimetype": "text/x-python",
   "name": "python",
   "nbconvert_exporter": "python",
   "pygments_lexer": "ipython3",
   "version": "3.8.6"
  },
  "orig_nbformat": 2,
  "kernelspec": {
   "name": "python386jvsc74a57bd01baa965d5efe3ac65b79dfc60c0d706280b1da80fedb7760faf2759126c4f253",
   "display_name": "Python 3.8.6 64-bit"
  },
  "metadata": {
   "interpreter": {
    "hash": "1baa965d5efe3ac65b79dfc60c0d706280b1da80fedb7760faf2759126c4f253"
   }
  }
 },
 "nbformat": 4,
 "nbformat_minor": 2,
 "cells": [
  {
   "cell_type": "code",
   "execution_count": 7,
   "metadata": {},
   "outputs": [],
   "source": [
    "import csv\n",
    "import re\n",
    "import PyPDF4"
   ]
  },
  {
   "cell_type": "code",
   "execution_count": 8,
   "metadata": {},
   "outputs": [],
   "source": [
    "depopath = './depos/'\n",
    "csvpath = './csvs/'\n",
    "\n",
    "filename = '05-07-21 Realtime Transcript.txt'"
   ]
  },
  {
   "cell_type": "code",
   "execution_count": 9,
   "metadata": {},
   "outputs": [],
   "source": [
    "filepath = depopath + filename\n",
    "outpath = csvpath + filename"
   ]
  },
  {
   "cell_type": "code",
   "execution_count": 10,
   "metadata": {},
   "outputs": [],
   "source": [
    "# if .txt, readlines()\n",
    "# if .pdf, convert PDF to text\n",
    "if (filepath.split('.')[-1] == \"txt\"):\n",
    "    depo = open(filepath, 'r', encoding='utf-16-le')\n",
    "    lines = depo.readlines()\n",
    "else:\n",
    "    depo = open(filepath, 'rb')\n",
    "    pdfReader = PyPDF4.PdfFileReader(depo)\n",
    "    \n",
    "    # extracting text from page\n",
    "    lines = []\n",
    "\n",
    "    for i in range(pdfReader.numPages):\n",
    "        # ignore last 3 lines, per veritext standard (page #, veritext, phone #)\n",
    "        lines.extend(pdfReader.getPage(i).extractText().splitlines()[:-3])\n",
    "\n",
    "depo.close()"
   ]
  },
  {
   "cell_type": "code",
   "execution_count": 25,
   "metadata": {},
   "outputs": [],
   "source": [
    "# Regex pattern for timestamp to remove\n",
    "r = '[0-9]+:[0-9][0-9]:[0-9][0-9][A-Z][A-Z] *[0-9]*'\n",
    "\n",
    "# 'Higly Confidential Attorney's Eyes Only' statement or 'Page ##' match string\n",
    "eyes =  [\"\\*\\*\", \"Page[s]* [0-9]+\", \"DIANE E. SKILLMAN\"]\n",
    "\n",
    "# Questioner list, includes all speakers that are not answering\n",
    "qs = [\"Q.\\t\", \"Q\\.\", \"Q\\.  \", \"Q  \", \"[A-Z]+\\.* [A-Z]+: *\"]\n",
    "\n",
    "# Responder list\n",
    "ans = [\"A\\.\\t\", \"A\\.\", \"A\\. \", \"A  \", \"THE WITNESS: *\", \"THE DEPONENT: *\"]"
   ]
  },
  {
   "cell_type": "code",
   "execution_count": 26,
   "metadata": {},
   "outputs": [],
   "source": [
    "# Leading characters to ignore\n",
    "leading_chars = 0\n",
    "\n",
    "#for line in lines:\n",
    "#    if (line.strip()) and re.search(\"1\\t\", line):\n",
    "#        leading_chars = re.search(\"1\\t\", line).start() + 2\n",
    "#        break"
   ]
  },
  {
   "cell_type": "code",
   "execution_count": 27,
   "metadata": {
    "tags": []
   },
   "outputs": [
    {
     "output_type": "stream",
     "name": "stdout",
     "text": [
      "1\n1\n"
     ]
    }
   ],
   "source": [
    "# Speaker identifier and sublist indexer\n",
    "cur_speaker = -1\n",
    "\n",
    "# Examination start marker\n",
    "started = 0\n",
    "\n",
    "# Output in the format of [[Q,A], [Q,A], ...] **A may be empty\n",
    "out_list = [[\"\",\"\",\"\"]]\n",
    "\n",
    "# What part of testimony?\n",
    "# 1 = direct\n",
    "# 2 = cross\n",
    "# 3 = redirect\n",
    "# 4 = recross\n",
    "part = 0\n",
    "part_dict = {\n",
    "    0 : 'PRE-EXAMINATION',\n",
    "    1 : 'DIRECT',\n",
    "    2 : 'CROSS',\n",
    "    3 : 'REDIRECT',\n",
    "    4 : 'RECROSS',\n",
    "    5 : 'COURT'\n",
    "}\n",
    "\n",
    "# Main loop\n",
    "for line in lines:\n",
    "    # Clean line:\n",
    "    #   remove leading_chars\n",
    "    #   regex match and remove timestamp\n",
    "    #   strip() leading and tailing spaces\n",
    "    line = line[leading_chars:]\n",
    "    line = re.sub(r,'',line).strip()\n",
    "\n",
    "    if 'EXAMINATION' in line:\n",
    "        started = 1\n",
    "        print(started)\n",
    "        if 'REDIRECT' in line:\n",
    "            part = 3\n",
    "        elif 'RECROSS' in line:\n",
    "            part = 4\n",
    "        elif 'DIRECT' in line:\n",
    "            part = 1\n",
    "        elif 'CROSS' in line:\n",
    "            part = 2\n",
    "        elif 'the Court' in line:\n",
    "            part = 5\n",
    "\n",
    "    # Questioning starts at the first mention of 'Q  ' or 'Q.  '\n",
    "    #if (not started) and any(re.match(q, line) for q in qs[:-1]):\n",
    "    #    started = 1\n",
    "    #    print(started)\n",
    "    \n",
    "    if started:\n",
    "        # 1) skip line if line is a) empty, b) page number, or c) confidential statement\n",
    "        # 2) if answer, set cur_speaker to 1 **A check before Q check to override \":  \" match\n",
    "        # 3) if question, set cur_speaker to 0 and append a new sublist\n",
    "        if (line == \"\") or (line.isdecimal()) or (any(re.match(eye, line) for eye in eyes)):\n",
    "            continue\n",
    "        \n",
    "        split = re.split('(' + '|'.join(qs + ans) + ')', line)\n",
    "        for s in split:\n",
    "            if any(re.match(a, s) for a in ans):\n",
    "                cur_speaker = 1\n",
    "            elif any(re.match(q, s) for q in qs):\n",
    "                cur_speaker = 0\n",
    "                out_list.append([part_dict[part],\"\",\"\"])\n",
    "            \n",
    "            # Append line to output\n",
    "            out_list[-1][cur_speaker + 1] = out_list[-1][cur_speaker + 1] + s + \" \"\n",
    "\n",
    "        # Do not capture index\n",
    "        if \"Deposition ended at\" in line:\n",
    "            break"
   ]
  },
  {
   "cell_type": "code",
   "execution_count": 28,
   "metadata": {},
   "outputs": [],
   "source": [
    "with open('{}.csv'.format(outpath), 'w', newline='') as outfile:\n",
    "    writer = csv.writer(outfile)\n",
    "    writer.writerows(out_list)"
   ]
  },
  {
   "cell_type": "code",
   "execution_count": null,
   "metadata": {},
   "outputs": [],
   "source": []
  }
 ]
}